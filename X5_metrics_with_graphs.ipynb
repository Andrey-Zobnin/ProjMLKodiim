{
 "cells": [
  {
   "cell_type": "markdown",
   "id": "2b259a80",
   "metadata": {},
   "source": [
    "# 📊 Бизнес-метрики проекта чат-бота (X5)\n",
    "В этом ноутбуке рассчитываются и визуализируются основные метрики: COST, ROI, CSAT."
   ]
  },
  {
   "cell_type": "code",
   "execution_count": null,
   "id": "41ac047f",
   "metadata": {},
   "outputs": [],
   "source": [
    "import matplotlib.pyplot as plt\n",
    "from sklearn.linear_model import LinearRegression\n",
    "import numpy as np"
   ]
  },
  {
   "cell_type": "code",
   "execution_count": null,
   "id": "dd800c63",
   "metadata": {},
   "outputs": [],
   "source": [
    "# Ввод исходных данных\n",
    "cost_dev = 4_000_000  # ₽\n",
    "months = 12\n",
    "monthly_support_savings = 1_200_000\n",
    "csat_before = 70\n",
    "csat_after = 85"
   ]
  },
  {
   "cell_type": "code",
   "execution_count": null,
   "id": "46165757",
   "metadata": {},
   "outputs": [],
   "source": [
    "# Расчёт метрик\n",
    "COST = cost_dev\n",
    "total_savings = monthly_support_savings * months\n",
    "ROI = ((total_savings - COST) / COST) * 100\n",
    "csat_improvement = csat_after - csat_before\n",
    "COST, ROI, csat_improvement"
   ]
  },
  {
   "cell_type": "markdown",
   "id": "d10d9285",
   "metadata": {},
   "source": [
    "## 📈 График экономии по месяцам"
   ]
  },
  {
   "cell_type": "code",
   "execution_count": null,
   "id": "43ffd757",
   "metadata": {},
   "outputs": [],
   "source": [
    "# Экономия по месяцам\n",
    "months_range = np.arange(1, months + 1)\n",
    "savings_over_time = months_range * monthly_support_savings\n",
    "\n",
    "plt.figure(figsize=(10, 5))\n",
    "plt.plot(months_range, savings_over_time, marker='o', linestyle='-', color='green')\n",
    "plt.axhline(y=COST, color='red', linestyle='--', label=f'COST = {COST:,} ₽')\n",
    "plt.title('Накопленная экономия от внедрения чат-бота')\n",
    "plt.xlabel('Месяц')\n",
    "plt.ylabel('Экономия, ₽')\n",
    "plt.grid(True)\n",
    "plt.legend()\n",
    "plt.tight_layout()\n",
    "plt.show()"
   ]
  },
  {
   "cell_type": "markdown",
   "id": "8a9f58a2",
   "metadata": {},
   "source": [
    "## 📉 Рост удовлетворённости клиентов (CSAT)"
   ]
  },
  {
   "cell_type": "code",
   "execution_count": null,
   "id": "e2b91507",
   "metadata": {},
   "outputs": [],
   "source": [
    "# CSAT визуализация\n",
    "labels = ['До внедрения', 'После внедрения']\n",
    "csat_values = [csat_before, csat_after]\n",
    "\n",
    "plt.figure(figsize=(6, 4))\n",
    "plt.bar(labels, csat_values, color=['gray', 'blue'])\n",
    "plt.title('Изменение CSAT')\n",
    "plt.ylabel('CSAT (%)')\n",
    "plt.ylim(0, 100)\n",
    "for i, v in enumerate(csat_values):\n",
    "    plt.text(i, v + 2, str(v), ha='center', fontweight='bold')\n",
    "plt.tight_layout()\n",
    "plt.show()"
   ]
  }
 ],
 "metadata": {},
 "nbformat": 4,
 "nbformat_minor": 5
}
