{
  "nbformat": 4,
  "nbformat_minor": 0,
  "metadata": {
    "colab": {
      "provenance": [],
      "toc_visible": true
    },
    "kernelspec": {
      "name": "python3",
      "display_name": "Python 3"
    },
    "language_info": {
      "name": "python"
    }
  },
  "cells": [
    {
      "cell_type": "markdown",
      "source": [
        "# Ввод исходных данных проекта\n"
      ],
      "metadata": {
        "id": "smOqDQ9vbK8X"
      }
    },
    {
      "cell_type": "markdown",
      "source": [
        "## Стоимость разработки (примерно 4 млн ₽ — команда, инфраструктура, зарплаты)\n"
      ],
      "metadata": {
        "id": "fMrPoho-bNwE"
      }
    },
    {
      "cell_type": "code",
      "source": [
        "cost_dev = 4_000_000"
      ],
      "metadata": {
        "id": "_TOGehIObRFu"
      },
      "execution_count": 2,
      "outputs": []
    },
    {
      "cell_type": "markdown",
      "source": [
        "## Экономия в месяц за счёт уменьшения нагрузки на поддержку"
      ],
      "metadata": {
        "id": "9CJhbe-1bS-D"
      }
    },
    {
      "cell_type": "code",
      "source": [
        "months = 12\n",
        "monthly_support_savings = 1_200_000"
      ],
      "metadata": {
        "id": "kFQTIVqRbXQO"
      },
      "execution_count": 5,
      "outputs": []
    },
    {
      "cell_type": "markdown",
      "source": [
        "## Период оценки эффективности\n",
        "-   CSAT до внедрения (в %)\n",
        "-   CSAT после внедрения (в %)\n"
      ],
      "metadata": {
        "id": "LgwNB90PbZ9Y"
      }
    },
    {
      "cell_type": "code",
      "source": [
        "csat_after = 85\n",
        "csat_before = 70"
      ],
      "metadata": {
        "id": "RCgGrxgIbHLR"
      },
      "execution_count": 6,
      "outputs": []
    },
    {
      "cell_type": "markdown",
      "source": [
        "# Расчёт метрик"
      ],
      "metadata": {
        "id": "5VYltuBIbn0g"
      }
    },
    {
      "cell_type": "markdown",
      "source": [
        "## 1. COST — затраты на проект"
      ],
      "metadata": {
        "id": "qJ_lVrbccDeF"
      }
    },
    {
      "cell_type": "code",
      "source": [
        "COST = cost_dev"
      ],
      "metadata": {
        "id": "UHbZ4tugbpst"
      },
      "execution_count": 9,
      "outputs": []
    },
    {
      "cell_type": "markdown",
      "source": [
        "\n",
        "## 2. ROI — Return on Investment"
      ],
      "metadata": {
        "id": "oSko982jb7q5"
      }
    },
    {
      "cell_type": "code",
      "source": [
        "total_savings = monthly_support_savings * months\n",
        "ROI = ((total_savings - COST) / COST) * 100"
      ],
      "metadata": {
        "id": "uK2WYiTeb4CA"
      },
      "execution_count": 12,
      "outputs": []
    },
    {
      "cell_type": "markdown",
      "source": [
        "## 3. CSAT — прирост удовлетворённости пользователей"
      ],
      "metadata": {
        "id": "tXwmC8Lpb_Hs"
      }
    },
    {
      "cell_type": "code",
      "source": [
        "csat_improvement = csat_after - csat_before"
      ],
      "metadata": {
        "id": "i4rw9oxTcBD4"
      },
      "execution_count": 13,
      "outputs": []
    },
    {
      "cell_type": "markdown",
      "source": [
        "# Вывод результатов"
      ],
      "metadata": {
        "id": "r10CB-SUcOll"
      }
    },
    {
      "cell_type": "code",
      "execution_count": 14,
      "metadata": {
        "colab": {
          "base_uri": "https://localhost:8080/"
        },
        "id": "sDkO4SDUa-GD",
        "outputId": "28e10d42-8bda-414a-d397-371ee9403663"
      },
      "outputs": [
        {
          "output_type": "stream",
          "name": "stdout",
          "text": [
            "📊 Бизнес-метрики проекта чат-бота X5:\n",
            "1. COST: 4,000,000 ₽\n",
            "2. ROI: 260.00%\n",
            "3. Прирост CSAT: +15% (с 70% до 85%)\n"
          ]
        }
      ],
      "source": [
        "print(\"📊 Бизнес-метрики проекта чат-бота X5:\")\n",
        "print(f\"1. COST: {COST:,} ₽\")\n",
        "print(f\"2. ROI: {ROI:.2f}%\")\n",
        "print(f\"3. Прирост CSAT: +{csat_improvement}% (с {csat_before}% до {csat_after}%)\")\n"
      ]
    },
    {
      "cell_type": "code",
      "source": [],
      "metadata": {
        "id": "s6m1PHG-cPzu"
      },
      "execution_count": null,
      "outputs": []
    }
  ]
}