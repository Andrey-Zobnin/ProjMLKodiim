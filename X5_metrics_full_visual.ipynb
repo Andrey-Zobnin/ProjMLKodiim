{
 "cells": [
  {
   "cell_type": "markdown",
   "id": "521f4c63",
   "metadata": {},
   "source": [
    "# 📊 Расчёт бизнес-метрик для проекта чат-бота (X5)\n",
    "В этом ноутбуке рассчитываются ключевые показатели эффективности: COST, ROI, CSAT.\n",
    "Визуализация представлена с помощью библиотек: matplotlib, seaborn, plotly и pygal."
   ]
  },
  {
   "cell_type": "code",
   "execution_count": null,
   "id": "fb2f265f",
   "metadata": {},
   "outputs": [],
   "source": [
    "# Импорт библиотек\n",
    "import matplotlib.pyplot as plt\n",
    "import seaborn as sns\n",
    "import plotly.graph_objects as go\n",
    "import numpy as np"
   ]
  },
  {
   "cell_type": "markdown",
   "id": "8569c1e7",
   "metadata": {},
   "source": [
    "## 📌 Ввод исходных данных"
   ]
  },
  {
   "cell_type": "code",
   "execution_count": null,
   "id": "703efb3f",
   "metadata": {},
   "outputs": [],
   "source": [
    "# Исходные данные для расчёта метрик\n",
    "cost_dev = 4_000_000  # Затраты на разработку\n",
    "months = 12\n",
    "monthly_support_savings = 1_200_000  # Экономия в месяц\n",
    "csat_before = 70  # Удовлетворённость до внедрения\n",
    "csat_after = 85   # Удовлетворённость после внедрения"
   ]
  },
  {
   "cell_type": "markdown",
   "id": "4f57eebf",
   "metadata": {},
   "source": [
    "## 📈 Расчёт метрик: COST, ROI, CSAT"
   ]
  },
  {
   "cell_type": "code",
   "execution_count": null,
   "id": "0c98a183",
   "metadata": {},
   "outputs": [],
   "source": [
    "# Расчёт метрик\n",
    "COST = cost_dev\n",
    "total_savings = monthly_support_savings * months\n",
    "ROI = ((total_savings - COST) / COST) * 100\n",
    "csat_improvement = csat_after - csat_before\n",
    "COST, ROI, csat_improvement"
   ]
  },
  {
   "cell_type": "markdown",
   "id": "3b51aa48",
   "metadata": {},
   "source": [
    "## 📊 График накопленной экономии (matplotlib + seaborn)"
   ]
  },
  {
   "cell_type": "code",
   "execution_count": null,
   "id": "9729fdf0",
   "metadata": {},
   "outputs": [],
   "source": [
    "# Экономия по месяцам\n",
    "months_range = np.arange(1, months + 1)\n",
    "savings = months_range * monthly_support_savings\n",
    "sns.set(style='whitegrid')\n",
    "plt.figure(figsize=(10, 5))\n",
    "sns.lineplot(x=months_range, y=savings, marker='o', label='Накопленная экономия')\n",
    "plt.axhline(COST, color='red', linestyle='--', label=f'COST = {COST:,} ₽')\n",
    "plt.title('Экономия от внедрения чат-бота по месяцам')\n",
    "plt.xlabel('Месяц')\n",
    "plt.ylabel('Экономия, ₽')\n",
    "plt.legend()\n",
    "plt.tight_layout()\n",
    "plt.show()"
   ]
  },
  {
   "cell_type": "markdown",
   "id": "30f6662c",
   "metadata": {},
   "source": [
    "## 📈 CSAT: Изменение удовлетворённости (Plotly)"
   ]
  },
  {
   "cell_type": "code",
   "execution_count": null,
   "id": "791e5562",
   "metadata": {},
   "outputs": [],
   "source": [
    "# Интерактивный график Plotly\n",
    "fig = go.Figure(data=[\n",
    "    go.Bar(name='CSAT', x=['До', 'После'], y=[csat_before, csat_after], marker_color=['gray', 'blue'])\n",
    "])\n",
    "fig.update_layout(title='Уровень удовлетворённости (CSAT)',\n",
    "                  yaxis=dict(title='Проценты'),\n",
    "                  xaxis=dict(title='Период'))\n",
    "fig.show()"
   ]
  },
  {
   "cell_type": "markdown",
   "id": "7232c910",
   "metadata": {},
   "source": [
    "## 📉 ROI-график с помощью Pygal (код для локального запуска)\n",
    "Если вы работаете в локальной среде или Colab, выполните:\n",
    "```bash\n",
    "!pip install pygal\n",
    "```\n",
    "```python\n",
    "import pygal\n",
    "from pygal.style import LightColorizedStyle\n",
    "\n",
    "bar_chart = pygal.Bar(style=LightColorizedStyle, show_legend=False)\n",
    "bar_chart.title = 'Возврат инвестиций (ROI) в %'\n",
    "bar_chart.add('ROI', [ROI])\n",
    "bar_chart.render_to_file('roi_chart.svg')\n",
    "```"
   ]
  },
  {
   "cell_type": "markdown",
   "id": "591cbaa0",
   "metadata": {},
   "source": [
    "## 📂 Дополнительные файлы Markdown\n",
    "К ноутбуку можно приложить:\n",
    "- `README.md`: описание проекта\n",
    "- `metrics.md`: методика расчёта метрик\n",
    "- `graphs.md`: описание графиков\n",
    "- `conclusion.md`: выводы по проекту"
   ]
  }
 ],
 "metadata": {},
 "nbformat": 4,
 "nbformat_minor": 5
}
